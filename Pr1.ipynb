import threading
import random
import numpy as np
from matplotlib.animation import FuncAnimation
import matplotlib.pyplot as plt
from IPython.display import HTML

values = [0,1]
n=10
state = np.random.choice(values, n*n).reshape(n,n)
listcounters = [[0] * n for _ in range(n)]
cell_counter = 0;

cell_lock_counter = threading.Lock()
key = threading.Lock()
#state = [(np.random.rand(n*n).reshape(n,n)>0.5).astype(np.int8)]
print(listcounters)

def getValue(x,y):
  global n
  global state
  if (x>=0 and x<n and y>=0 and y<n):
    return state[x][y]
  return 0;


def count_alive_cells(curr_x, curr_y):
    alive_cells = 0
    global n
    global key
    cordinates = [(-1,-1),(-1,0),(-1,1),(0,-1),(0,1),(1,-1),(1,0),(1,1)]

    for i,j in cordinates:
      alive_cells += getValue(curr_x+i,curr_y+j)
    
    return alive_cells

def isAlive(curr_val,alive_neigbors):
    if(alive_neigbors<2 or alive_neigbors>3):
      return 0;
    elif((alive_neigbors==2 or alive_neigbors==3) and curr_val==1) or (curr_val==0 and alive_neigbors==3):
      return 1
    return curr_val
